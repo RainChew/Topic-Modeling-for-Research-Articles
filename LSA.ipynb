{
 "cells": [
  {
   "cell_type": "code",
   "execution_count": 6,
   "id": "401ab36f",
   "metadata": {},
   "outputs": [],
   "source": [
    "# Import libraries\n",
    "import pickle\n",
    "from gensim import corpora, models\n",
    "from sklearn.feature_extraction.text import TfidfVectorizer\n",
    "from sklearn.decomposition import TruncatedSVD\n",
    "from wordcloud import WordCloud\n",
    "import matplotlib.pyplot as plt\n",
    "from sklearn.model_selection import GridSearchCV"
   ]
  },
  {
   "cell_type": "code",
   "execution_count": 7,
   "id": "8060987e",
   "metadata": {},
   "outputs": [],
   "source": [
    "# Define the file path\n",
    "pickle_file = 'processed_data.pkl'"
   ]
  },
  {
   "cell_type": "code",
   "execution_count": 8,
   "id": "86274658",
   "metadata": {},
   "outputs": [],
   "source": [
    "# Read the processed data from the Pickle file\n",
    "with open(pickle_file, 'rb') as file:\n",
    "    processed_data = pickle.load(file)"
   ]
  },
  {
   "cell_type": "code",
   "execution_count": 9,
   "id": "97542e5b",
   "metadata": {},
   "outputs": [],
   "source": [
    "# Retrieve data\n",
    "title = processed_data['title']\n",
    "abstract = processed_data['abstract']"
   ]
  },
  {
   "cell_type": "code",
   "execution_count": 11,
   "id": "614456a6",
   "metadata": {},
   "outputs": [
    {
     "data": {
      "text/plain": [
       "0                               [reconstruct, effect, map]\n",
       "1                  [rotation, invariance, neural, network]\n",
       "2        [spherical, polyharmonics, poisson, kernels, p...\n",
       "3        [finite, element, approximation, stochastic, m...\n",
       "4        [comparative, study, discrete, wavelet, transf...\n",
       "                               ...                        \n",
       "20967    [contemporary, machine, learn, guide, practiti...\n",
       "20968    [uniform, diamond, coat, hard, alloy, cut, ins...\n",
       "20969         [analyse, soccer, game, cluster, conceptors]\n",
       "20970    [efficient, simulation, sum, correlate, variates]\n",
       "20971                 [optional, stop, problem, bayesians]\n",
       "Name: title, Length: 20972, dtype: object"
      ]
     },
     "execution_count": 11,
     "metadata": {},
     "output_type": "execute_result"
    }
   ],
   "source": [
    "title"
   ]
  },
  {
   "cell_type": "code",
   "execution_count": 12,
   "id": "04782553",
   "metadata": {},
   "outputs": [
    {
     "data": {
      "text/plain": [
       "0        [predictive, model, allow, inference, analyze,...\n",
       "1        [rotation, invariance, translation, invariance...\n",
       "2        [introduce, develop, notion, spherical, polyha...\n",
       "3        [stochastic, landau, lifshitz, gilbert, llg, e...\n",
       "4        [ftir, spectra, sample, 7, plant, species, use...\n",
       "                               ...                        \n",
       "20967    [machine, learn, find, increasingly, broad, ap...\n",
       "20968    [polycrystalline, diamond, coat, grow, cement,...\n",
       "20969    [present, new, approach, identify, situations,...\n",
       "20970    [sum, variates, encounter, many, challenge, ap...\n",
       "20971    [recently, optional, stop, subject, debate, ba...\n",
       "Name: abstract, Length: 20972, dtype: object"
      ]
     },
     "execution_count": 12,
     "metadata": {},
     "output_type": "execute_result"
    }
   ],
   "source": [
    "abstract"
   ]
  },
  {
   "cell_type": "code",
   "execution_count": 13,
   "id": "1500d941",
   "metadata": {},
   "outputs": [],
   "source": [
    "# Concatenate titles and abstracts\n",
    "documents = [\" \".join(t) + \" \" + \" \".join(a) for t, a in zip(title, abstract)]"
   ]
  },
  {
   "cell_type": "code",
   "execution_count": 14,
   "id": "a8f37c26",
   "metadata": {},
   "outputs": [],
   "source": [
    "# Define the range of values for max_df and min_df to search over\n",
    "param_grid = {\n",
    "    'max_df': [0.7, 0.75, 0.8, 0.85, 0.9, 0.95],\n",
    "    'min_df': [2, 3, 4, 5]\n",
    "}"
   ]
  },
  {
   "cell_type": "code",
   "execution_count": 15,
   "id": "6f60557d",
   "metadata": {},
   "outputs": [],
   "source": [
    "# Initialize the TF-IDF Vectorizer\n",
    "tfidf_vectorizer = TfidfVectorizer(stop_words='english')"
   ]
  },
  {
   "cell_type": "code",
   "execution_count": 19,
   "id": "42730ae8",
   "metadata": {},
   "outputs": [
    {
     "name": "stderr",
     "output_type": "stream",
     "text": [
      "C:\\Users\\Ang Soo Khee\\anaconda3\\lib\\site-packages\\sklearn\\model_selection\\_validation.py:824: UserWarning: Scoring failed. The score on this train-test partition for these parameters will be set to nan. Details: \n",
      "Traceback (most recent call last):\n",
      "  File \"C:\\Users\\Ang Soo Khee\\anaconda3\\lib\\site-packages\\sklearn\\model_selection\\_validation.py\", line 811, in _score\n",
      "    scores = scorer(estimator, X_test)\n",
      "TypeError: _BaseScorer.__call__() missing 1 required positional argument: 'y_true'\n",
      "\n",
      "  warnings.warn(\n",
      "C:\\Users\\Ang Soo Khee\\anaconda3\\lib\\site-packages\\sklearn\\model_selection\\_search.py:976: UserWarning: One or more of the test scores are non-finite: [nan nan nan nan nan nan nan nan nan nan nan nan nan nan nan nan nan nan\n",
      " nan nan nan nan nan nan]\n",
      "  warnings.warn(\n"
     ]
    },
    {
     "data": {
      "text/html": [
       "<style>#sk-container-id-1 {color: black;}#sk-container-id-1 pre{padding: 0;}#sk-container-id-1 div.sk-toggleable {background-color: white;}#sk-container-id-1 label.sk-toggleable__label {cursor: pointer;display: block;width: 100%;margin-bottom: 0;padding: 0.3em;box-sizing: border-box;text-align: center;}#sk-container-id-1 label.sk-toggleable__label-arrow:before {content: \"▸\";float: left;margin-right: 0.25em;color: #696969;}#sk-container-id-1 label.sk-toggleable__label-arrow:hover:before {color: black;}#sk-container-id-1 div.sk-estimator:hover label.sk-toggleable__label-arrow:before {color: black;}#sk-container-id-1 div.sk-toggleable__content {max-height: 0;max-width: 0;overflow: hidden;text-align: left;background-color: #f0f8ff;}#sk-container-id-1 div.sk-toggleable__content pre {margin: 0.2em;color: black;border-radius: 0.25em;background-color: #f0f8ff;}#sk-container-id-1 input.sk-toggleable__control:checked~div.sk-toggleable__content {max-height: 200px;max-width: 100%;overflow: auto;}#sk-container-id-1 input.sk-toggleable__control:checked~label.sk-toggleable__label-arrow:before {content: \"▾\";}#sk-container-id-1 div.sk-estimator input.sk-toggleable__control:checked~label.sk-toggleable__label {background-color: #d4ebff;}#sk-container-id-1 div.sk-label input.sk-toggleable__control:checked~label.sk-toggleable__label {background-color: #d4ebff;}#sk-container-id-1 input.sk-hidden--visually {border: 0;clip: rect(1px 1px 1px 1px);clip: rect(1px, 1px, 1px, 1px);height: 1px;margin: -1px;overflow: hidden;padding: 0;position: absolute;width: 1px;}#sk-container-id-1 div.sk-estimator {font-family: monospace;background-color: #f0f8ff;border: 1px dotted black;border-radius: 0.25em;box-sizing: border-box;margin-bottom: 0.5em;}#sk-container-id-1 div.sk-estimator:hover {background-color: #d4ebff;}#sk-container-id-1 div.sk-parallel-item::after {content: \"\";width: 100%;border-bottom: 1px solid gray;flex-grow: 1;}#sk-container-id-1 div.sk-label:hover label.sk-toggleable__label {background-color: #d4ebff;}#sk-container-id-1 div.sk-serial::before {content: \"\";position: absolute;border-left: 1px solid gray;box-sizing: border-box;top: 0;bottom: 0;left: 50%;z-index: 0;}#sk-container-id-1 div.sk-serial {display: flex;flex-direction: column;align-items: center;background-color: white;padding-right: 0.2em;padding-left: 0.2em;position: relative;}#sk-container-id-1 div.sk-item {position: relative;z-index: 1;}#sk-container-id-1 div.sk-parallel {display: flex;align-items: stretch;justify-content: center;background-color: white;position: relative;}#sk-container-id-1 div.sk-item::before, #sk-container-id-1 div.sk-parallel-item::before {content: \"\";position: absolute;border-left: 1px solid gray;box-sizing: border-box;top: 0;bottom: 0;left: 50%;z-index: -1;}#sk-container-id-1 div.sk-parallel-item {display: flex;flex-direction: column;z-index: 1;position: relative;background-color: white;}#sk-container-id-1 div.sk-parallel-item:first-child::after {align-self: flex-end;width: 50%;}#sk-container-id-1 div.sk-parallel-item:last-child::after {align-self: flex-start;width: 50%;}#sk-container-id-1 div.sk-parallel-item:only-child::after {width: 0;}#sk-container-id-1 div.sk-dashed-wrapped {border: 1px dashed gray;margin: 0 0.4em 0.5em 0.4em;box-sizing: border-box;padding-bottom: 0.4em;background-color: white;}#sk-container-id-1 div.sk-label label {font-family: monospace;font-weight: bold;display: inline-block;line-height: 1.2em;}#sk-container-id-1 div.sk-label-container {text-align: center;}#sk-container-id-1 div.sk-container {/* jupyter's `normalize.less` sets `[hidden] { display: none; }` but bootstrap.min.css set `[hidden] { display: none !important; }` so we also need the `!important` here to be able to override the default hidden behavior on the sphinx rendered scikit-learn.org. See: https://github.com/scikit-learn/scikit-learn/issues/21755 */display: inline-block !important;position: relative;}#sk-container-id-1 div.sk-text-repr-fallback {display: none;}</style><div id=\"sk-container-id-1\" class=\"sk-top-container\"><div class=\"sk-text-repr-fallback\"><pre>GridSearchCV(cv=5, estimator=TfidfVectorizer(stop_words=&#x27;english&#x27;),\n",
       "             param_grid={&#x27;max_df&#x27;: [0.7, 0.75, 0.8, 0.85, 0.9, 0.95],\n",
       "                         &#x27;min_df&#x27;: [2, 3, 4, 5]},\n",
       "             scoring=&#x27;neg_log_loss&#x27;)</pre><b>In a Jupyter environment, please rerun this cell to show the HTML representation or trust the notebook. <br />On GitHub, the HTML representation is unable to render, please try loading this page with nbviewer.org.</b></div><div class=\"sk-container\" hidden><div class=\"sk-item sk-dashed-wrapped\"><div class=\"sk-label-container\"><div class=\"sk-label sk-toggleable\"><input class=\"sk-toggleable__control sk-hidden--visually\" id=\"sk-estimator-id-1\" type=\"checkbox\" ><label for=\"sk-estimator-id-1\" class=\"sk-toggleable__label sk-toggleable__label-arrow\">GridSearchCV</label><div class=\"sk-toggleable__content\"><pre>GridSearchCV(cv=5, estimator=TfidfVectorizer(stop_words=&#x27;english&#x27;),\n",
       "             param_grid={&#x27;max_df&#x27;: [0.7, 0.75, 0.8, 0.85, 0.9, 0.95],\n",
       "                         &#x27;min_df&#x27;: [2, 3, 4, 5]},\n",
       "             scoring=&#x27;neg_log_loss&#x27;)</pre></div></div></div><div class=\"sk-parallel\"><div class=\"sk-parallel-item\"><div class=\"sk-item\"><div class=\"sk-label-container\"><div class=\"sk-label sk-toggleable\"><input class=\"sk-toggleable__control sk-hidden--visually\" id=\"sk-estimator-id-2\" type=\"checkbox\" ><label for=\"sk-estimator-id-2\" class=\"sk-toggleable__label sk-toggleable__label-arrow\">estimator: TfidfVectorizer</label><div class=\"sk-toggleable__content\"><pre>TfidfVectorizer(stop_words=&#x27;english&#x27;)</pre></div></div></div><div class=\"sk-serial\"><div class=\"sk-item\"><div class=\"sk-estimator sk-toggleable\"><input class=\"sk-toggleable__control sk-hidden--visually\" id=\"sk-estimator-id-3\" type=\"checkbox\" ><label for=\"sk-estimator-id-3\" class=\"sk-toggleable__label sk-toggleable__label-arrow\">TfidfVectorizer</label><div class=\"sk-toggleable__content\"><pre>TfidfVectorizer(stop_words=&#x27;english&#x27;)</pre></div></div></div></div></div></div></div></div></div></div>"
      ],
      "text/plain": [
       "GridSearchCV(cv=5, estimator=TfidfVectorizer(stop_words='english'),\n",
       "             param_grid={'max_df': [0.7, 0.75, 0.8, 0.85, 0.9, 0.95],\n",
       "                         'min_df': [2, 3, 4, 5]},\n",
       "             scoring='neg_log_loss')"
      ]
     },
     "execution_count": 19,
     "metadata": {},
     "output_type": "execute_result"
    }
   ],
   "source": [
    "# Perform grid search with specified scoring metric\n",
    "grid_search = GridSearchCV(estimator=tfidf_vectorizer, param_grid=param_grid, cv=5, scoring='neg_log_loss')\n",
    "grid_search.fit(documents)"
   ]
  },
  {
   "cell_type": "code",
   "execution_count": 20,
   "id": "20a389d7",
   "metadata": {},
   "outputs": [
    {
     "name": "stdout",
     "output_type": "stream",
     "text": [
      "Best Parameters: {'max_df': 0.7, 'min_df': 2}\n"
     ]
    }
   ],
   "source": [
    "# Get the best parameters\n",
    "best_params = grid_search.best_params_\n",
    "print(\"Best Parameters:\", best_params)"
   ]
  },
  {
   "cell_type": "code",
   "execution_count": 21,
   "id": "224ef90f",
   "metadata": {},
   "outputs": [],
   "source": [
    "# Get the best estimator\n",
    "best_estimator = grid_search.best_estimator_"
   ]
  },
  {
   "cell_type": "code",
   "execution_count": 22,
   "id": "2a10264d",
   "metadata": {},
   "outputs": [],
   "source": [
    "# Transform the documents using the best estimator\n",
    "tfidf_matrix = best_estimator.transform(documents)"
   ]
  },
  {
   "cell_type": "code",
   "execution_count": null,
   "id": "07dfa5c9",
   "metadata": {},
   "outputs": [],
   "source": [
    "# Apply Truncated SVD for LSA using the best parameters\n",
    "lsa_model = TruncatedSVD(n_components=5)  # Define the number of topics\n",
    "lsa_matrix = lsa_model.fit_transform(tfidf_matrix)"
   ]
  },
  {
   "cell_type": "code",
   "execution_count": null,
   "id": "d9ebad50",
   "metadata": {},
   "outputs": [],
   "source": []
  },
  {
   "cell_type": "code",
   "execution_count": null,
   "id": "56c5efee",
   "metadata": {},
   "outputs": [],
   "source": []
  },
  {
   "cell_type": "code",
   "execution_count": null,
   "id": "09276adf",
   "metadata": {},
   "outputs": [],
   "source": [
    "\n",
    "\n",
    "# Visualization and Interpretation\n",
    "terms = grid_search.best_estimator_.get_feature_names_out()\n",
    "\n",
    "for topic_id, topic in enumerate(lsa_model.components_):\n",
    "    top_indices = topic.argsort()[-10:][::-1]  # Get the indices of the top 10 terms for the topic\n",
    "    top_terms = [terms[i] for i in top_indices]  # Get the top 10 terms\n",
    "    print(f\"Topic {topic_id}: {', '.join(top_terms)}\")\n",
    "\n",
    "    # Word Cloud Visualization\n",
    "    topic_words = dict(zip(top_terms, topic[top_indices]))\n",
    "    wordcloud = WordCloud(background_color='white').generate_from_frequencies(topic_words)\n",
    "    plt.figure(figsize=(8, 6))\n",
    "    plt.imshow(wordcloud, interpolation='bilinear')\n",
    "    plt.title(f'Topic {topic_id} Word Cloud')\n",
    "    plt.axis('off')\n",
    "    plt.show()"
   ]
  },
  {
   "cell_type": "code",
   "execution_count": null,
   "id": "ded58210",
   "metadata": {},
   "outputs": [],
   "source": []
  },
  {
   "cell_type": "code",
   "execution_count": null,
   "id": "d6c8e73d",
   "metadata": {},
   "outputs": [],
   "source": [
    "# TF-IDF Vectorization\n",
    "from sklearn.feature_extraction.text import TfidfVectorizer\n",
    "\n",
    "tfidf_vectorizer = TfidfVectorizer(max_df=0.95, min_df=2, stop_words='english')\n",
    "tfidf_matrix = tfidf_vectorizer.fit_transform(documents)\n",
    "\n",
    "# Apply Truncated SVD for LSA\n",
    "num_topics = 5  # Define the number of topics\n",
    "lsa_model = models.LsiModel(corpus=tfidf_matrix.T, id2word=None, num_topics=num_topics)\n",
    "\n",
    "# Visualization\n",
    "topics = lsa_model.show_topics(num_topics=-1, num_words=10)\n",
    "for topic_id, topic in topics:\n",
    "    print(f\"Topic {topic_id}: {topic}\")\n",
    "\n",
    "    # Word Cloud Visualization\n",
    "    wordcloud = WordCloud(background_color='white').generate_from_frequencies(dict(topic))\n",
    "    plt.figure(figsize=(8, 6))\n",
    "    plt.imshow(wordcloud, interpolation='bilinear')\n",
    "    plt.title(f'Topic {topic_id} Word Cloud')\n",
    "    plt.axis('off')\n",
    "    plt.show()"
   ]
  },
  {
   "cell_type": "code",
   "execution_count": null,
   "id": "5304ec3e",
   "metadata": {},
   "outputs": [],
   "source": []
  },
  {
   "cell_type": "code",
   "execution_count": null,
   "id": "59d3a6b0",
   "metadata": {},
   "outputs": [],
   "source": [
    "# Topic Modeling Algorithm (LSA)\n",
    "dictionary = corpora.Dictionary(df['preprocessed_abstract'])\n",
    "corpus = [dictionary.doc2bow(text) for text in df['preprocessed_abstract']]\n",
    "lsa_model = models.LsiModel(corpus, id2word=dictionary, num_topics=5)"
   ]
  },
  {
   "cell_type": "code",
   "execution_count": null,
   "id": "2d19b171",
   "metadata": {},
   "outputs": [],
   "source": [
    "# Visualization\n",
    "topics = lsa_model.show_topics(num_topics=-1, num_words=10)\n",
    "for topic_id, topic in topics:\n",
    "    print(f\"Topic {topic_id}: {topic}\")"
   ]
  },
  {
   "cell_type": "code",
   "execution_count": null,
   "id": "75d1b32f",
   "metadata": {},
   "outputs": [],
   "source": [
    "# Word Cloud Visualization\n",
    "for topic_id, topic in topics:\n",
    "    wordcloud = WordCloud(background_color='white').generate_from_frequencies(dict(topic))\n",
    "    plt.figure(figsize=(8, 6))\n",
    "    plt.imshow(wordcloud, interpolation='bilinear')\n",
    "    plt.title(f'Topic {topic_id} Word Cloud')\n",
    "    plt.axis('off')\n",
    "    plt.show()"
   ]
  },
  {
   "cell_type": "code",
   "execution_count": null,
   "id": "9f334b15",
   "metadata": {},
   "outputs": [],
   "source": [
    "# Topic Interpretation\n",
    "def get_document_topic(document):\n",
    "    bow = dictionary.doc2bow(preprocess_text(document))\n",
    "    topic_distribution = dict(lsa_model[bow])\n",
    "    return max(topic_distribution, key=topic_distribution.get)\n",
    "\n",
    "df['topic'] = df['ABSTRACT'].apply(get_document_topic)"
   ]
  },
  {
   "cell_type": "code",
   "execution_count": null,
   "id": "005919e2",
   "metadata": {},
   "outputs": [],
   "source": [
    "\n",
    "\n",
    "\n",
    "\n",
    "\n",
    "\n",
    "# Testing and Validation\n",
    "# You can validate the topics against the original content of the documents and assess coherence and interpretability manually."
   ]
  }
 ],
 "metadata": {
  "kernelspec": {
   "display_name": "Python 3 (ipykernel)",
   "language": "python",
   "name": "python3"
  },
  "language_info": {
   "codemirror_mode": {
    "name": "ipython",
    "version": 3
   },
   "file_extension": ".py",
   "mimetype": "text/x-python",
   "name": "python",
   "nbconvert_exporter": "python",
   "pygments_lexer": "ipython3",
   "version": "3.10.9"
  }
 },
 "nbformat": 4,
 "nbformat_minor": 5
}
