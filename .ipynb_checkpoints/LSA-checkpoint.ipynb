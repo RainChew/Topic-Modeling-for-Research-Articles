{
 "cells": [
  {
   "cell_type": "code",
   "execution_count": 70,
   "id": "f46d8ce7",
   "metadata": {},
   "outputs": [],
   "source": [
    "# Import libraries\n",
    "import pickle\n",
    "import matplotlib.pyplot as plt\n",
    "import gensim.matutils\n",
    "from gensim import corpora, models\n",
    "from sklearn.feature_extraction.text import TfidfVectorizer\n",
    "from sklearn.decomposition import TruncatedSVD\n",
    "from wordcloud import WordCloud\n",
    "from sklearn.model_selection import GridSearchCV\n",
    "from sklearn.metrics import silhouette_score\n",
    "from gensim.models.coherencemodel import CoherenceModel\n",
    "from gensim.models import LsiModel\n",
    "from scipy.sparse import csr_matrix"
   ]
  },
  {
   "cell_type": "code",
   "execution_count": 50,
   "id": "e757cfdb",
   "metadata": {},
   "outputs": [],
   "source": [
    "# Define the file path\n",
    "pickle_file = 'processed_data.pkl'"
   ]
  },
  {
   "cell_type": "code",
   "execution_count": 51,
   "id": "fc4c9e48",
   "metadata": {},
   "outputs": [],
   "source": [
    "# Read the processed data from the Pickle file\n",
    "with open(pickle_file, 'rb') as file:\n",
    "    processed_data = pickle.load(file)"
   ]
  },
  {
   "cell_type": "code",
   "execution_count": 52,
   "id": "e33c7cbb",
   "metadata": {},
   "outputs": [],
   "source": [
    "# Retrieve data\n",
    "title = processed_data['title']\n",
    "abstract = processed_data['abstract']"
   ]
  },
  {
   "cell_type": "code",
   "execution_count": 53,
   "id": "f25d60d0",
   "metadata": {},
   "outputs": [
    {
     "data": {
      "text/plain": [
       "0                               [reconstruct, effect, map]\n",
       "1                  [rotation, invariance, neural, network]\n",
       "2        [spherical, polyharmonics, poisson, kernels, p...\n",
       "3        [finite, element, approximation, stochastic, m...\n",
       "4        [comparative, study, discrete, wavelet, transf...\n",
       "                               ...                        \n",
       "20967    [contemporary, machine, learn, guide, practiti...\n",
       "20968    [uniform, diamond, coat, hard, alloy, cut, ins...\n",
       "20969         [analyse, soccer, game, cluster, conceptors]\n",
       "20970    [efficient, simulation, sum, correlate, variates]\n",
       "20971                 [optional, stop, problem, bayesians]\n",
       "Name: title, Length: 20972, dtype: object"
      ]
     },
     "execution_count": 53,
     "metadata": {},
     "output_type": "execute_result"
    }
   ],
   "source": [
    "title"
   ]
  },
  {
   "cell_type": "code",
   "execution_count": 54,
   "id": "11fc6c17",
   "metadata": {},
   "outputs": [
    {
     "data": {
      "text/plain": [
       "0        [predictive, model, allow, inference, analyze,...\n",
       "1        [rotation, invariance, translation, invariance...\n",
       "2        [introduce, develop, notion, spherical, polyha...\n",
       "3        [stochastic, landau, lifshitz, gilbert, llg, e...\n",
       "4        [ftir, spectra, sample, 7, plant, species, use...\n",
       "                               ...                        \n",
       "20967    [machine, learn, find, increasingly, broad, ap...\n",
       "20968    [polycrystalline, diamond, coat, grow, cement,...\n",
       "20969    [present, new, approach, identify, situations,...\n",
       "20970    [sum, variates, encounter, many, challenge, ap...\n",
       "20971    [recently, optional, stop, subject, debate, ba...\n",
       "Name: abstract, Length: 20972, dtype: object"
      ]
     },
     "execution_count": 54,
     "metadata": {},
     "output_type": "execute_result"
    }
   ],
   "source": [
    "abstract"
   ]
  },
  {
   "cell_type": "code",
   "execution_count": 55,
   "id": "c4a87f82",
   "metadata": {},
   "outputs": [],
   "source": [
    "# Concatenate titles and abstracts\n",
    "documents = [\" \".join(t) + \" \" + \" \".join(a) for t, a in zip(title, abstract)]"
   ]
  },
  {
   "cell_type": "code",
   "execution_count": 56,
   "id": "eb1c3850",
   "metadata": {},
   "outputs": [],
   "source": [
    "# Define the range of values for max_df and min_df to search over\n",
    "param_grid = {\n",
    "    'max_df': [0.7, 0.75, 0.8, 0.85, 0.9, 0.95],\n",
    "    'min_df': [2, 3, 4, 5]\n",
    "}"
   ]
  },
  {
   "cell_type": "code",
   "execution_count": 57,
   "id": "4f0ac572",
   "metadata": {},
   "outputs": [],
   "source": [
    "# Initialize the TF-IDF Vectorizer\n",
    "tfidf_vectorizer = TfidfVectorizer(stop_words='english')"
   ]
  },
  {
   "cell_type": "code",
   "execution_count": 58,
   "id": "8c0d07a8",
   "metadata": {},
   "outputs": [
    {
     "name": "stderr",
     "output_type": "stream",
     "text": [
      "C:\\Users\\Ang Soo Khee\\anaconda3\\lib\\site-packages\\sklearn\\model_selection\\_validation.py:824: UserWarning: Scoring failed. The score on this train-test partition for these parameters will be set to nan. Details: \n",
      "Traceback (most recent call last):\n",
      "  File \"C:\\Users\\Ang Soo Khee\\anaconda3\\lib\\site-packages\\sklearn\\model_selection\\_validation.py\", line 811, in _score\n",
      "    scores = scorer(estimator, X_test)\n",
      "TypeError: _BaseScorer.__call__() missing 1 required positional argument: 'y_true'\n",
      "\n",
      "  warnings.warn(\n",
      "C:\\Users\\Ang Soo Khee\\anaconda3\\lib\\site-packages\\sklearn\\model_selection\\_search.py:976: UserWarning: One or more of the test scores are non-finite: [nan nan nan nan nan nan nan nan nan nan nan nan nan nan nan nan nan nan\n",
      " nan nan nan nan nan nan]\n",
      "  warnings.warn(\n"
     ]
    },
    {
     "data": {
      "text/html": [
       "<style>#sk-container-id-3 {color: black;}#sk-container-id-3 pre{padding: 0;}#sk-container-id-3 div.sk-toggleable {background-color: white;}#sk-container-id-3 label.sk-toggleable__label {cursor: pointer;display: block;width: 100%;margin-bottom: 0;padding: 0.3em;box-sizing: border-box;text-align: center;}#sk-container-id-3 label.sk-toggleable__label-arrow:before {content: \"▸\";float: left;margin-right: 0.25em;color: #696969;}#sk-container-id-3 label.sk-toggleable__label-arrow:hover:before {color: black;}#sk-container-id-3 div.sk-estimator:hover label.sk-toggleable__label-arrow:before {color: black;}#sk-container-id-3 div.sk-toggleable__content {max-height: 0;max-width: 0;overflow: hidden;text-align: left;background-color: #f0f8ff;}#sk-container-id-3 div.sk-toggleable__content pre {margin: 0.2em;color: black;border-radius: 0.25em;background-color: #f0f8ff;}#sk-container-id-3 input.sk-toggleable__control:checked~div.sk-toggleable__content {max-height: 200px;max-width: 100%;overflow: auto;}#sk-container-id-3 input.sk-toggleable__control:checked~label.sk-toggleable__label-arrow:before {content: \"▾\";}#sk-container-id-3 div.sk-estimator input.sk-toggleable__control:checked~label.sk-toggleable__label {background-color: #d4ebff;}#sk-container-id-3 div.sk-label input.sk-toggleable__control:checked~label.sk-toggleable__label {background-color: #d4ebff;}#sk-container-id-3 input.sk-hidden--visually {border: 0;clip: rect(1px 1px 1px 1px);clip: rect(1px, 1px, 1px, 1px);height: 1px;margin: -1px;overflow: hidden;padding: 0;position: absolute;width: 1px;}#sk-container-id-3 div.sk-estimator {font-family: monospace;background-color: #f0f8ff;border: 1px dotted black;border-radius: 0.25em;box-sizing: border-box;margin-bottom: 0.5em;}#sk-container-id-3 div.sk-estimator:hover {background-color: #d4ebff;}#sk-container-id-3 div.sk-parallel-item::after {content: \"\";width: 100%;border-bottom: 1px solid gray;flex-grow: 1;}#sk-container-id-3 div.sk-label:hover label.sk-toggleable__label {background-color: #d4ebff;}#sk-container-id-3 div.sk-serial::before {content: \"\";position: absolute;border-left: 1px solid gray;box-sizing: border-box;top: 0;bottom: 0;left: 50%;z-index: 0;}#sk-container-id-3 div.sk-serial {display: flex;flex-direction: column;align-items: center;background-color: white;padding-right: 0.2em;padding-left: 0.2em;position: relative;}#sk-container-id-3 div.sk-item {position: relative;z-index: 1;}#sk-container-id-3 div.sk-parallel {display: flex;align-items: stretch;justify-content: center;background-color: white;position: relative;}#sk-container-id-3 div.sk-item::before, #sk-container-id-3 div.sk-parallel-item::before {content: \"\";position: absolute;border-left: 1px solid gray;box-sizing: border-box;top: 0;bottom: 0;left: 50%;z-index: -1;}#sk-container-id-3 div.sk-parallel-item {display: flex;flex-direction: column;z-index: 1;position: relative;background-color: white;}#sk-container-id-3 div.sk-parallel-item:first-child::after {align-self: flex-end;width: 50%;}#sk-container-id-3 div.sk-parallel-item:last-child::after {align-self: flex-start;width: 50%;}#sk-container-id-3 div.sk-parallel-item:only-child::after {width: 0;}#sk-container-id-3 div.sk-dashed-wrapped {border: 1px dashed gray;margin: 0 0.4em 0.5em 0.4em;box-sizing: border-box;padding-bottom: 0.4em;background-color: white;}#sk-container-id-3 div.sk-label label {font-family: monospace;font-weight: bold;display: inline-block;line-height: 1.2em;}#sk-container-id-3 div.sk-label-container {text-align: center;}#sk-container-id-3 div.sk-container {/* jupyter's `normalize.less` sets `[hidden] { display: none; }` but bootstrap.min.css set `[hidden] { display: none !important; }` so we also need the `!important` here to be able to override the default hidden behavior on the sphinx rendered scikit-learn.org. See: https://github.com/scikit-learn/scikit-learn/issues/21755 */display: inline-block !important;position: relative;}#sk-container-id-3 div.sk-text-repr-fallback {display: none;}</style><div id=\"sk-container-id-3\" class=\"sk-top-container\"><div class=\"sk-text-repr-fallback\"><pre>GridSearchCV(cv=5, estimator=TfidfVectorizer(stop_words=&#x27;english&#x27;),\n",
       "             param_grid={&#x27;max_df&#x27;: [0.7, 0.75, 0.8, 0.85, 0.9, 0.95],\n",
       "                         &#x27;min_df&#x27;: [2, 3, 4, 5]},\n",
       "             scoring=&#x27;neg_log_loss&#x27;)</pre><b>In a Jupyter environment, please rerun this cell to show the HTML representation or trust the notebook. <br />On GitHub, the HTML representation is unable to render, please try loading this page with nbviewer.org.</b></div><div class=\"sk-container\" hidden><div class=\"sk-item sk-dashed-wrapped\"><div class=\"sk-label-container\"><div class=\"sk-label sk-toggleable\"><input class=\"sk-toggleable__control sk-hidden--visually\" id=\"sk-estimator-id-7\" type=\"checkbox\" ><label for=\"sk-estimator-id-7\" class=\"sk-toggleable__label sk-toggleable__label-arrow\">GridSearchCV</label><div class=\"sk-toggleable__content\"><pre>GridSearchCV(cv=5, estimator=TfidfVectorizer(stop_words=&#x27;english&#x27;),\n",
       "             param_grid={&#x27;max_df&#x27;: [0.7, 0.75, 0.8, 0.85, 0.9, 0.95],\n",
       "                         &#x27;min_df&#x27;: [2, 3, 4, 5]},\n",
       "             scoring=&#x27;neg_log_loss&#x27;)</pre></div></div></div><div class=\"sk-parallel\"><div class=\"sk-parallel-item\"><div class=\"sk-item\"><div class=\"sk-label-container\"><div class=\"sk-label sk-toggleable\"><input class=\"sk-toggleable__control sk-hidden--visually\" id=\"sk-estimator-id-8\" type=\"checkbox\" ><label for=\"sk-estimator-id-8\" class=\"sk-toggleable__label sk-toggleable__label-arrow\">estimator: TfidfVectorizer</label><div class=\"sk-toggleable__content\"><pre>TfidfVectorizer(stop_words=&#x27;english&#x27;)</pre></div></div></div><div class=\"sk-serial\"><div class=\"sk-item\"><div class=\"sk-estimator sk-toggleable\"><input class=\"sk-toggleable__control sk-hidden--visually\" id=\"sk-estimator-id-9\" type=\"checkbox\" ><label for=\"sk-estimator-id-9\" class=\"sk-toggleable__label sk-toggleable__label-arrow\">TfidfVectorizer</label><div class=\"sk-toggleable__content\"><pre>TfidfVectorizer(stop_words=&#x27;english&#x27;)</pre></div></div></div></div></div></div></div></div></div></div>"
      ],
      "text/plain": [
       "GridSearchCV(cv=5, estimator=TfidfVectorizer(stop_words='english'),\n",
       "             param_grid={'max_df': [0.7, 0.75, 0.8, 0.85, 0.9, 0.95],\n",
       "                         'min_df': [2, 3, 4, 5]},\n",
       "             scoring='neg_log_loss')"
      ]
     },
     "execution_count": 58,
     "metadata": {},
     "output_type": "execute_result"
    }
   ],
   "source": [
    "# Perform grid search with specified scoring metric\n",
    "grid_search = GridSearchCV(estimator=tfidf_vectorizer, param_grid=param_grid, cv=5, scoring='neg_log_loss')\n",
    "grid_search.fit(documents)"
   ]
  },
  {
   "cell_type": "code",
   "execution_count": 59,
   "id": "e1f94faa",
   "metadata": {},
   "outputs": [
    {
     "name": "stdout",
     "output_type": "stream",
     "text": [
      "Best Parameters: {'max_df': 0.7, 'min_df': 2}\n"
     ]
    }
   ],
   "source": [
    "# Get the best parameters\n",
    "best_params = grid_search.best_params_\n",
    "print(\"Best Parameters:\", best_params)"
   ]
  },
  {
   "cell_type": "code",
   "execution_count": 60,
   "id": "353619cb",
   "metadata": {},
   "outputs": [],
   "source": [
    "# Get the best estimator\n",
    "best_estimator = grid_search.best_estimator_"
   ]
  },
  {
   "cell_type": "code",
   "execution_count": 61,
   "id": "da639e8e",
   "metadata": {},
   "outputs": [],
   "source": [
    "# Transform the documents using the best estimator\n",
    "tfidf_matrix = best_estimator.transform(documents)"
   ]
  },
  {
   "cell_type": "code",
   "execution_count": 71,
   "id": "5a5d4b2f",
   "metadata": {},
   "outputs": [],
   "source": [
    "# Convert tfidf_matrix to a corpus for LSA\n",
    "corpus = gensim.matutils.Sparse2Corpus(tfidf_matrix.T)"
   ]
  },
  {
   "cell_type": "code",
   "execution_count": 62,
   "id": "77e1b7b3",
   "metadata": {},
   "outputs": [],
   "source": [
    "# Tokenize documents into lists of words\n",
    "tokenized_documents = [doc.split() for doc in documents]"
   ]
  },
  {
   "cell_type": "code",
   "execution_count": 63,
   "id": "8b87ef4d",
   "metadata": {},
   "outputs": [],
   "source": [
    "# Create a dictionary from the tokenized documents\n",
    "dictionary = corpora.Dictionary(tokenized_documents)"
   ]
  },
  {
   "cell_type": "code",
   "execution_count": null,
   "id": "ba745076",
   "metadata": {},
   "outputs": [],
   "source": [
    "# Calculate coherence score\n",
    "coherence_scores = []\n",
    "\n",
    "for num_topics in [5, 10, 15, 20, 25, 30, 35, 40]:\n",
    "    # Apply Truncated SVD for LSA using the best parameters\n",
    "    lsa_model = LsiModel(corpus=corpus, id2word=dictionary, num_topics=num_topics)\n",
    "    lsa_matrix = lsa_model[corpus]\n",
    "    \n",
    "    # Calculate coherence score\n",
    "    coherence_model = CoherenceModel(model=lsa_model, texts=tokenized_documents, dictionary=dictionary, coherence='c_v')\n",
    "    coherence_score = coherence_model.get_coherence()\n",
    "    coherence_scores.append(coherence_score)"
   ]
  },
  {
   "cell_type": "code",
   "execution_count": null,
   "id": "7bb0d091",
   "metadata": {},
   "outputs": [],
   "source": [
    "print(\"Coherence Scores:\", coherence_scores)"
   ]
  },
  {
   "cell_type": "code",
   "execution_count": 74,
   "id": "78a99670",
   "metadata": {},
   "outputs": [
    {
     "data": {
      "image/png": "[encoded data removed]",
      "text/plain": [
       "<Figure size 640x480 with 1 Axes>"
      ]
     },
     "metadata": {},
     "output_type": "display_data"
    }
   ],
   "source": [
    "# Plot the coherence scores\n",
    "plt.plot([5, 10, 15, 20, 25], coherence_scores, marker='o')\n",
    "plt.title('Coherence Scores vs Number of Topics')\n",
    "plt.xlabel('Number of Topics')\n",
    "plt.ylabel('Coherence Score')\n",
    "plt.grid(True)\n",
    "plt.show()"
   ]
  },
  {
   "cell_type": "code",
   "execution_count": null,
   "id": "45da1984",
   "metadata": {},
   "outputs": [],
   "source": [
    "# Choose the optimal number of topics based on the highest coherence score\n",
    "num_topics_optimal = num_topics_range[coherence_scores.index(max(coherence_scores))]\n",
    "print(\"Optimal Number of Topics:\", num_topics_optimal)"
   ]
  },
  {
   "cell_type": "code",
   "execution_count": null,
   "id": "24c3b714",
   "metadata": {},
   "outputs": [],
   "source": [
    "# Apply LSA with the Optimal Number of Topics\n",
    "lsa_model_optimal = LsiModel(corpus=tfidf_matrix.T, id2word=None, num_topics=num_topics_optimal)\n",
    "lsa_matrix_optimal = lsa_model_optimal.fit_transform(tfidf_matrix)"
   ]
  },
  {
   "cell_type": "code",
   "execution_count": null,
   "id": "73217787",
   "metadata": {},
   "outputs": [],
   "source": [
    "# Visualization of Topics (Word Clouds)\n",
    "topics = lsa_model_optimal.show_topics(num_topics=num_topics_optimal, num_words=10)\n",
    "\n",
    "for topic_id, topic in topics:\n",
    "    print(f\"Topic {topic_id}: {topic}\")\n",
    "    \n",
    "    # Generate word cloud\n",
    "    wordcloud = WordCloud(background_color='white').generate_from_frequencies(dict(topic))\n",
    "    \n",
    "    # Plot word cloud\n",
    "    plt.figure(figsize=(8, 6))\n",
    "    plt.imshow(wordcloud, interpolation='bilinear')\n",
    "    plt.title(f'Topic {topic_id} Word Cloud')\n",
    "    plt.axis('off')\n",
    "    plt.show()"
   ]
  },
  {
   "cell_type": "code",
   "execution_count": null,
   "id": "11a6b42b",
   "metadata": {},
   "outputs": [],
   "source": [
    "# Topic Interpretation (Display Representative Words)\n",
    "topics = lsa_model_optimal.show_topics(num_topics=num_topics_optimal, num_words=10)\n",
    "\n",
    "for topic_id, topic in topics:\n",
    "    print(f\"Topic {topic_id}: {topic}\")"
   ]
  },
  {
   "cell_type": "code",
   "execution_count": null,
   "id": "0abc7ed2",
   "metadata": {},
   "outputs": [],
   "source": []
  },
  {
   "cell_type": "code",
   "execution_count": null,
   "id": "6649880f",
   "metadata": {},
   "outputs": [],
   "source": []
  },
  {
   "cell_type": "code",
   "execution_count": null,
   "id": "79260829",
   "metadata": {},
   "outputs": [],
   "source": []
  },
  {
   "cell_type": "code",
   "execution_count": null,
   "id": "0bf89fcb",
   "metadata": {},
   "outputs": [],
   "source": [
    "\n",
    "\n",
    "\n",
    "\n",
    "\n",
    "\n",
    "# Testing and Validation\n",
    "# You can validate the topics against the original content of the documents and assess coherence and interpretability manually."
   ]
  }
 ],
 "metadata": {
  "kernelspec": {
   "display_name": "Python 3 (ipykernel)",
   "language": "python",
   "name": "python3"
  },
  "language_info": {
   "codemirror_mode": {
    "name": "ipython",
    "version": 3
   },
   "file_extension": ".py",
   "mimetype": "text/x-python",
   "name": "python",
   "nbconvert_exporter": "python",
   "pygments_lexer": "ipython3",
   "version": "3.10.9"
  }
 },
 "nbformat": 4,
 "nbformat_minor": 5
}
